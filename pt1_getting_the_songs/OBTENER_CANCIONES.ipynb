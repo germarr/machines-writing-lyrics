{
 "cells": [
  {
   "cell_type": "code",
   "execution_count": 1,
   "metadata": {},
   "outputs": [],
   "source": [
    "from urllib.parse import urlencode\n",
    "import requests\n",
    "import json\n",
    "import pandas as pd\n",
    "from IPython.display import Image\n",
    "from IPython.core.display import HTML\n",
    "from requests_html import HTML\n",
    "import re"
   ]
  },
  {
   "cell_type": "code",
   "execution_count": 2,
   "metadata": {},
   "outputs": [],
   "source": [
    "ar = input(\"Name of artist: \")\n",
    "lang_ = input(\"Main Language (ES or EN): \")\n",
    "client_access_token = \"_jnouQXAL5mt8OAZg4Ge93aoxSJKxLPWymm1wk57a4lnO4oPKrCp5bbc6dCu0KKY\""
   ]
  },
  {
   "cell_type": "code",
   "execution_count": null,
   "metadata": {},
   "outputs": [],
   "source": [
    "def main(artist=ar):\n",
    "    client_access_token = \"_jnouQXAL5mt8OAZg4Ge93aoxSJKxLPWymm1wk57a4lnO4oPKrCp5bbc6dCu0KKY\"\n",
    "\n",
    "    artist_id = search_artist_id(search_term=artist, token=client_access_token)\n",
    "\n",
    "    print(f\"artist_id: {artist_id}\")\n",
    "\n",
    "    full_df_clean = all_artist_songs(\n",
    "        id_of_artist=artist_id, token=client_access_token)\n",
    "\n",
    "    print(f\"\\nThe artists has: {len(full_df_clean)} songs\")\n",
    "    print(full_df_clean[0])\n",
    "\n",
    "    sentences_list = lyrics_list(\n",
    "        all_artist_songs=full_df_clean.url.tolist()[0:150])\n",
    "\n",
    "    all_sentences, sentences_df = combine_all_sentences(\n",
    "        list_of_sentences=sentences_list)\n",
    "\n",
    "    save_to_txt(sentences=all_sentences, artist=artist, lang=lang_)\n"
   ]
  },
  {
   "cell_type": "code",
   "execution_count": 3,
   "metadata": {},
   "outputs": [
    {
     "output_type": "stream",
     "name": "stdout",
     "text": [
      "Artist ID---> 354376\n \n"
     ]
    },
    {
     "output_type": "execute_result",
     "data": {
      "text/html": "<img src=\"https://images.genius.com/ce95c067f2695166b5e0009ed6b28643.353x353x1.jpg\" width=\"200\" height=\"200\"/>",
      "text/plain": [
       "<IPython.core.display.Image object>"
      ]
     },
     "metadata": {},
     "execution_count": 3
    }
   ],
   "source": [
    "def search_artist_id(search_term, token):\n",
    "\n",
    "    headers = {\"Authorization\": f\"Bearer {token}\"}\n",
    "    search = search_term\n",
    "    endpoint_search = \"https://api.genius.com/search\"\n",
    "    data_search = urlencode({\"q\": f\"{search}\"})\n",
    "    lookup_url_search = f\"{endpoint_search}?{data_search}\"\n",
    "\n",
    "    r_search = requests.get(lookup_url_search, headers=headers).json()\n",
    "\n",
    "    base_search = r_search[\"response\"][\"hits\"][0][\"result\"][\"primary_artist\"]\n",
    "    img_artist= Image(url= f'{base_search.get(\"image_url\")}', width=200, height=200)\n",
    "    artist_id = base_search.get(\"id\")\n",
    "\n",
    "    return artist_id,img_artist\n",
    "\n",
    "artist_id,img_artist = search_artist_id(search_term=ar, token=client_access_token)\n",
    "\n",
    "print(f\"Artist ID---> {artist_id}\")\n",
    "print(\" \")\n",
    "img_artist"
   ]
  },
  {
   "cell_type": "code",
   "execution_count": 12,
   "metadata": {},
   "outputs": [
    {
     "output_type": "stream",
     "name": "stdout",
     "text": [
      "1, 2, 3, 4, "
     ]
    },
    {
     "output_type": "execute_result",
     "data": {
      "text/plain": [
       "   song_id                                                url  \\\n",
       "0   154314  https://genius.com/Arctic-monkeys-do-i-wanna-k...   \n",
       "1    93916       https://genius.com/Arctic-monkeys-505-lyrics   \n",
       "2    88856  https://genius.com/Arctic-monkeys-fluorescent-...   \n",
       "3   212611  https://genius.com/Arctic-monkeys-arabella-lyrics   \n",
       "4   213161  https://genius.com/Arctic-monkeys-i-wanna-be-y...   \n",
       "\n",
       "                     song                                full_title  \\\n",
       "0        Do I Wanna Know?        Do I Wanna Know? by Arctic Monkeys   \n",
       "1                     505                     505 by Arctic Monkeys   \n",
       "2  Fluorescent Adolescent  Fluorescent Adolescent by Arctic Monkeys   \n",
       "3                Arabella                Arabella by Arctic Monkeys   \n",
       "4        I Wanna Be Yours        I Wanna Be Yours by Arctic Monkeys   \n",
       "\n",
       "   primary_artist_id primary_artist_name    hot  \n",
       "0              12297      Arctic Monkeys  False  \n",
       "1              12297      Arctic Monkeys  False  \n",
       "2              12297      Arctic Monkeys  False  \n",
       "3              12297      Arctic Monkeys  False  \n",
       "4              12297      Arctic Monkeys  False  "
      ],
      "text/html": "<div>\n<style scoped>\n    .dataframe tbody tr th:only-of-type {\n        vertical-align: middle;\n    }\n\n    .dataframe tbody tr th {\n        vertical-align: top;\n    }\n\n    .dataframe thead th {\n        text-align: right;\n    }\n</style>\n<table border=\"1\" class=\"dataframe\">\n  <thead>\n    <tr style=\"text-align: right;\">\n      <th></th>\n      <th>song_id</th>\n      <th>url</th>\n      <th>song</th>\n      <th>full_title</th>\n      <th>primary_artist_id</th>\n      <th>primary_artist_name</th>\n      <th>hot</th>\n    </tr>\n  </thead>\n  <tbody>\n    <tr>\n      <th>0</th>\n      <td>154314</td>\n      <td>https://genius.com/Arctic-monkeys-do-i-wanna-k...</td>\n      <td>Do I Wanna Know?</td>\n      <td>Do I Wanna Know? by Arctic Monkeys</td>\n      <td>12297</td>\n      <td>Arctic Monkeys</td>\n      <td>False</td>\n    </tr>\n    <tr>\n      <th>1</th>\n      <td>93916</td>\n      <td>https://genius.com/Arctic-monkeys-505-lyrics</td>\n      <td>505</td>\n      <td>505 by Arctic Monkeys</td>\n      <td>12297</td>\n      <td>Arctic Monkeys</td>\n      <td>False</td>\n    </tr>\n    <tr>\n      <th>2</th>\n      <td>88856</td>\n      <td>https://genius.com/Arctic-monkeys-fluorescent-...</td>\n      <td>Fluorescent Adolescent</td>\n      <td>Fluorescent Adolescent by Arctic Monkeys</td>\n      <td>12297</td>\n      <td>Arctic Monkeys</td>\n      <td>False</td>\n    </tr>\n    <tr>\n      <th>3</th>\n      <td>212611</td>\n      <td>https://genius.com/Arctic-monkeys-arabella-lyrics</td>\n      <td>Arabella</td>\n      <td>Arabella by Arctic Monkeys</td>\n      <td>12297</td>\n      <td>Arctic Monkeys</td>\n      <td>False</td>\n    </tr>\n    <tr>\n      <th>4</th>\n      <td>213161</td>\n      <td>https://genius.com/Arctic-monkeys-i-wanna-be-y...</td>\n      <td>I Wanna Be Yours</td>\n      <td>I Wanna Be Yours by Arctic Monkeys</td>\n      <td>12297</td>\n      <td>Arctic Monkeys</td>\n      <td>False</td>\n    </tr>\n  </tbody>\n</table>\n</div>"
     },
     "metadata": {},
     "execution_count": 12
    }
   ],
   "source": [
    "def all_artist_songs(id_of_artist, token):\n",
    "    songs_urls = []\n",
    "    next_page = 1\n",
    "    headers = {\"Authorization\": f\"Bearer {token}\"}\n",
    "    while True:\n",
    "        r_songs = requests.get(\n",
    "            f\"https://api.genius.com/artists/{id_of_artist}/songs?per_page=50&page={next_page}&sort=popularity\", headers=headers).json()\n",
    "\n",
    "        amount_of_songs = range(len(r_songs[\"response\"][\"songs\"]))\n",
    "        print(next_page, end=', ')\n",
    "        for i in amount_of_songs:\n",
    "            url_base = r_songs[\"response\"][\"songs\"][i]\n",
    "            songs_urls.append({\n",
    "                \"song_id\": url_base.get(\"id\"),\n",
    "                \"url\": url_base.get(\"url\"),\n",
    "                \"song\": url_base[\"title_with_featured\"],\n",
    "                \"full_title\": url_base[\"full_title\"],\n",
    "                \"primary_artist_id\": url_base[\"primary_artist\"][\"id\"],\n",
    "                \"primary_artist_name\": url_base[\"primary_artist\"][\"name\"],\n",
    "                \"hot\": url_base[\"stats\"].get(\"hot\")\n",
    "            })\n",
    "\n",
    "            next_page = r_songs[\"response\"].get(\"next_page\")\n",
    "\n",
    "        if not next_page:\n",
    "            break\n",
    "\n",
    "    full_df = pd.DataFrame.from_dict(songs_urls)\n",
    "    full_df_clean = full_df.query(f'primary_artist_id == {id_of_artist}')\n",
    "\n",
    "    return full_df_clean\n",
    "\n",
    "full_df_clean = all_artist_songs(id_of_artist=artist_id, token=client_access_token)\n",
    "full_df_clean.head()"
   ]
  },
  {
   "cell_type": "code",
   "execution_count": 16,
   "metadata": {},
   "outputs": [],
   "source": [
    "def words_from_song(url):\n",
    "    r = requests.get(url).text\n",
    "    r_html = HTML(html=r)\n",
    "\n",
    "    try:\n",
    "        lyrics = r_html.find(\"p\")[0].text.lower()\n",
    "    except IndexError:\n",
    "        lyrics = \"null\"\n",
    "\n",
    "    lst = [lyrics]\n",
    "    word_list = lst[0].split()\n",
    "\n",
    "    try:\n",
    "        df = pd.DataFrame(word_list).rename(columns={0: \"words\"}).groupby(\n",
    "            \"words\").size().reset_index().sort_values(by=0, ascending=False)\n",
    "    except KeyError:\n",
    "        df = \"null\"\n",
    "\n",
    "    sentences = lyrics.split('\\n')\n",
    "    sentences_list = []\n",
    "\n",
    "    for i in range(len(sentences)):\n",
    "        varOne = re.sub(r'\\[[^()]*\\]', '', sentences[i])\n",
    "        if varOne != \"\":\n",
    "            sentences_list.append(varOne)\n",
    "\n",
    "    while(\" \" in sentences):\n",
    "        sentences.remove(\" \")\n",
    "\n",
    "    return lyrics, word_list, df, sentences_list\n",
    "\n",
    "#lyrics, word_list, df, sentences= words_from_song(url=)"
   ]
  },
  {
   "cell_type": "code",
   "execution_count": 17,
   "metadata": {},
   "outputs": [
    {
     "output_type": "stream",
     "name": "stdout",
     "text": [
      "1, 2, 3, 4, 5, 6, 7, 8, 9, 10, 11, 12, 13, 14, 15, 16, 17, 18, 19, 20, 21, 22, 23, 24, 25, 26, 27, 28, 29, 30, 31, 32, 33, 34, 35, 36, 37, 38, 39, 40, 41, 42, 43, 44, 45, 46, 47, 48, 49, 50, 51, 52, 53, 54, 55, 56, 57, 58, 59, 60, 61, 62, 63, 64, 65, 66, 67, 68, 69, 70, 71, 72, 73, 74, 75, 76, 77, 78, 79, 80, 81, 82, 83, 84, 85, 86, 87, 88, 89, 90, 91, 92, 93, 94, 95, 96, 97, 98, 99, 100, "
     ]
    }
   ],
   "source": [
    "def lyrics_list(all_artist_songs):\n",
    "    lyrics_list = []\n",
    "    word_list_ = []\n",
    "    sentences_list = []\n",
    "    df_list = []\n",
    "\n",
    "    for i in range(len(all_artist_songs)):\n",
    "        url = all_artist_songs[i]\n",
    "        lyrics, word_list, df, sentences = words_from_song(url)\n",
    "        lyrics_list.append(lyrics)\n",
    "        word_list_.append(word_list)\n",
    "        df_list.append(df)\n",
    "        sentences_list.append(sentences)\n",
    "        print(i+1, end=\", \")\n",
    "\n",
    "    return sentences_list\n",
    "\n",
    "sentences_list = lyrics_list(all_artist_songs=full_df_clean.url.tolist()[0:100])"
   ]
  },
  {
   "cell_type": "code",
   "execution_count": 18,
   "metadata": {},
   "outputs": [],
   "source": [
    "def combine_all_sentences(list_of_sentences):\n",
    "    all_sentences = []\n",
    "\n",
    "    for i in range(len(list_of_sentences)):\n",
    "        for si in range(len(list_of_sentences[i])):\n",
    "            all_sentences.append(list_of_sentences[i][si])\n",
    "\n",
    "    sentences_df = pd.DataFrame(all_sentences)\n",
    "\n",
    "    return all_sentences, sentences_df\n",
    "\n",
    "all_sentences, sentences_df = combine_all_sentences(list_of_sentences=sentences_list)"
   ]
  },
  {
   "cell_type": "code",
   "execution_count": 19,
   "metadata": {},
   "outputs": [
    {
     "output_type": "stream",
     "name": "stdout",
     "text": [
      "\nFile 'arcticmonkeys.txt' Created!\n"
     ]
    }
   ],
   "source": [
    "def save_to_txt(sentences, artist, lang):\n",
    "    list_to_convert = sentences\n",
    "    artist_ = artist.replace(\" \", \"\").lower()\n",
    "\n",
    "    with open(f'../lyrics/{lang}/{artist_}.txt', 'w', encoding=\"utf-8\") as filehandle:\n",
    "        for listitem in list_to_convert:\n",
    "            filehandle.write('%s\\n' % listitem)\n",
    "\n",
    "    print(f\"\\nFile '{artist_}.txt' Created!\")\n",
    "\n",
    "save_to_txt(sentences=all_sentences, artist=ar, lang=lang_)"
   ]
  },
  {
   "cell_type": "code",
   "execution_count": null,
   "metadata": {},
   "outputs": [],
   "source": []
  }
 ],
 "metadata": {
  "kernelspec": {
   "name": "python3",
   "display_name": "Python 3.7.6 64-bit (conda)",
   "metadata": {
    "interpreter": {
     "hash": "a8f61be024eba58adef938c9aa1e29e02cb3dece83a5348b1a2dafd16a070453"
    }
   }
  },
  "language_info": {
   "codemirror_mode": {
    "name": "ipython",
    "version": 3
   },
   "file_extension": ".py",
   "mimetype": "text/x-python",
   "name": "python",
   "nbconvert_exporter": "python",
   "pygments_lexer": "ipython3",
   "version": "3.7.6-final"
  }
 },
 "nbformat": 4,
 "nbformat_minor": 5
}